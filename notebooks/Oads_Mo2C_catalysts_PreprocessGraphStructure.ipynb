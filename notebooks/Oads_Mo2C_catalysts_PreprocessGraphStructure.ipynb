{
 "cells": [
  {
   "cell_type": "code",
   "execution_count": 8,
   "metadata": {},
   "outputs": [],
   "source": [
    "import time\n",
    "import networkx as nx\n",
    "from nfp.preprocessing import features_graph\n",
    "import numpy as np\n",
    "import pandas as pd"
   ]
  },
  {
   "cell_type": "code",
   "execution_count": 9,
   "metadata": {},
   "outputs": [
    {
     "name": "stdout",
     "output_type": "stream",
     "text": [
      "0            Oads_Mo2C_graphml/Mo2C_101_1_O_0_19_1.graphml\n",
      "1            Oads_Mo2C_graphml/Mo2C_110_4_O_0_19_2.graphml\n",
      "2            Oads_Mo2C_graphml/Mo2C_011_8_O_0_31_5.graphml\n",
      "3            Oads_Mo2C_graphml/Mo2C_101_5_O_0_23_6.graphml\n",
      "4            Oads_Mo2C_graphml/Mo2C_110_2_O_0_18_7.graphml\n",
      "                               ...                        \n",
      "20172    Oads_Mo2C_graphml/Mo2C_100_4_Au_1_O_0_6_26624....\n",
      "20173    Oads_Mo2C_graphml/Mo2C_100_0_Ru_1_O_0_8_26626....\n",
      "20174    Oads_Mo2C_graphml/Mo2C_110_2_Ir_0_O_0_6_26627....\n",
      "20175    Oads_Mo2C_graphml/Mo2C_110_1_Ru_0_O_0_3_26631....\n",
      "20176    Oads_Mo2C_graphml/Mo2C_101_7_Os_0_O_0_5_26632....\n",
      "Name: graphFileName, Length: 20177, dtype: object\n"
     ]
    }
   ],
   "source": [
    "dataIni = pd.read_csv('Oads_Mo2C_catalysts_graphml.csv')\n",
    "dataIni['graphFileName'] = dataIni['graphFileName'].str.slice_replace(0,0,repl='Oads_Mo2C_graphml/')\n",
    "print(dataIni.graphFileName)"
   ]
  },
  {
   "cell_type": "code",
   "execution_count": 4,
   "metadata": {},
   "outputs": [],
   "source": [
    "# Prepare graph information for faster preprocessing\n",
    "def construct_graph_data(graphDF,numOfShell=2):\n",
    "    \"\"\" \n",
    "    Returns\n",
    "    dict with entries\n",
    "    'n_atom' : number of atoms in the molecule\n",
    "    'n_bond' : number of bonds in the molecule \n",
    "    'connectivity' : (n_bond, 2) array of source atom, target atom pairs.\n",
    "    \"\"\"\n",
    "    dataList = []\n",
    "    for index,row in graphDF.iterrows():\n",
    "        graph = row.graphFileName\n",
    "        s1 = graph.split(\"/\")[-1]\n",
    "        shortName = s1.split(\".\")[0]\n",
    "        G = nx.read_graphml(graph)\n",
    "        if numOfShell==2:\n",
    "            nodes = (\n",
    "                     node\n",
    "                     for node, data\n",
    "                     in G.nodes(data=True)\n",
    "                     if data.get(\"type\") != \"thirdCoordinationShell\"\n",
    "                     )\n",
    "            G = G.subgraph(nodes)\n",
    "\n",
    "        elif numOfShell==1:\n",
    "            nodes = (\n",
    "                     node\n",
    "                     for node, data\n",
    "                     in G.nodes(data=True)\n",
    "                     if data.get(\"type\") != \"thirdCoordinationShell\" and data.get(\"type\") != 'secondCoordinationShell'\n",
    "                     )\n",
    "            G = G.subgraph(nodes)\n",
    "\n",
    "        n_atom = G.number_of_nodes()\n",
    "        n_bond = 2 * G.number_of_edges()\n",
    "\n",
    "        # If its an isolated atom, add a self-link\n",
    "        if n_bond == 0:\n",
    "            n_bond = 1\n",
    "\n",
    "        connectivity = np.zeros((n_bond, 2), dtype='int')\n",
    "        nodeList = []\n",
    "        edgeList = []\n",
    "        revList = []\n",
    "        atomFeatList = []\n",
    "        bondFeatList = []\n",
    "        bond_index = 0\n",
    "        for n,node in enumerate(G.nodes):\n",
    "            # Atom Classes\n",
    "            start_index = list(G.nodes).index(node)\n",
    "            nodeList.append(node)\n",
    "            atomFeat = features_graph.atom_features_ver1(G.nodes[node])\n",
    "            atomFeatList.append(atomFeat)\n",
    "            for m,edge in enumerate(G.edges):\n",
    "                if node in edge:\n",
    "                    # Is the bond pointing at the target atom     \n",
    "                    rev = list(G.nodes).index(list(G.edges)[m][0]) != start_index\n",
    "                    bondFeat = features_graph.bond_features_v1(G.edges[edge],flipped=rev)\n",
    "                    bondFeatList.append(bondFeat)\n",
    "                    edgeList.append(edge)\n",
    "                    revList.append(rev)\n",
    "                    # Connectivity\n",
    "                    if not rev:  # Original direction\n",
    "                        connectivity[bond_index, 0] = list(G.nodes).index(list(G.edges)[m][0])\n",
    "                        connectivity[bond_index, 1] = list(G.nodes).index(list(G.edges)[m][1])\n",
    "                    else:  # Reversed\n",
    "                        connectivity[bond_index, 0] = list(G.nodes).index(list(G.edges)[m][1])\n",
    "                        connectivity[bond_index, 1] = list(G.nodes).index(list(G.edges)[m][0])\n",
    "                    bond_index += 1      \n",
    "        connectivity = connectivity.tolist()\n",
    "        dataList.append([shortName,n_atom, n_bond, nodeList, edgeList, atomFeatList, bondFeatList, revList, connectivity])\n",
    "    return dataList"
   ]
  },
  {
   "cell_type": "code",
   "execution_count": 10,
   "metadata": {},
   "outputs": [
    {
     "name": "stdout",
     "output_type": "stream",
     "text": [
      "Finished in (s): 58491.90770316124\n"
     ]
    }
   ],
   "source": [
    "start_time = time.time()\n",
    "structList = construct_graph_data(dataIni,numOfShell=2)\n",
    "dfGS = pd.DataFrame(structList,columns=['graphName','nAtoms','nBonds','nodes','edges','atomFeatures','bondFeatures','revBool','connectivity'])\n",
    "print('Finished in (s):',time.time()-start_time)\n",
    "#dfGS.to_csv('graph_structure_2ndNN_ini.csv.gz', index=None, compression='gzip')"
   ]
  }
 ],
 "metadata": {
  "interpreter": {
   "hash": "750d83110d5b0bfbd408bdc3782180734b1c6a03672b697568f2e101cd8873f5"
  },
  "kernelspec": {
   "display_name": "Python [conda env:mlmat] *",
   "language": "python",
   "name": "python3"
  },
  "language_info": {
   "codemirror_mode": {
    "name": "ipython",
    "version": 3
   },
   "file_extension": ".py",
   "mimetype": "text/x-python",
   "name": "python",
   "nbconvert_exporter": "python",
   "pygments_lexer": "ipython3",
   "version": "3.6.6"
  }
 },
 "nbformat": 4,
 "nbformat_minor": 4
}
